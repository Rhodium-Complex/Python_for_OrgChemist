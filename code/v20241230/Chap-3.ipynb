{
 "cells": [
  {
   "cell_type": "code",
   "execution_count": 1,
   "metadata": {},
   "outputs": [],
   "source": [
    "import matplotlib.pyplot as plt\n",
    "import numpy as np\n",
    "from ipywidgets import FloatLogSlider, FloatSlider, interact\n"
   ]
  },
  {
   "cell_type": "code",
   "execution_count": 2,
   "metadata": {},
   "outputs": [],
   "source": [
    "\n",
    "def make_NMR_signal(peaktops, t):\n",
    "    \"\"\"\n",
    "    ピーク位置と時間軸を基にNMR信号を生成します。\n",
    "    \n",
    "    Parameters:\n",
    "    - peaktops (ndarray): ピークの周波数位置の配列。\n",
    "    - t (ndarray): 時間ポイントの配列。\n",
    "    \n",
    "    Returns:\n",
    "    - signal (ndarray): 生成されたNMR信号。\n",
    "    \"\"\"\n",
    "\n",
    "    signal_cos = np.zeros(len(t))\n",
    "    signal_sin = np.zeros(len(t))\n",
    "\n",
    "    # Calculate cos\n",
    "    for peak in peaktops:\n",
    "        signal_cos += np.cos(2 * np.pi * peak * t)\n",
    "        signal_sin += np.sin(2 * np.pi * peak * t)\n",
    "\n",
    "    # Add exponential decay\n",
    "    signal_cos *= np.exp(-0.1 * t) \n",
    "    signal_sin *= np.exp(-0.1 * t) \n",
    "    return (signal_cos, signal_sin)\n"
   ]
  },
  {
   "cell_type": "code",
   "execution_count": 3,
   "metadata": {},
   "outputs": [],
   "source": [
    "def add_gaussian_noise(signals, intensity=0.1):\n",
    "    \"\"\"\n",
    "    信号にガウスノイズを追加します。\n",
    "    パラメータ:\n",
    "    - signal (ndarray): ノイズを追加する信号。\n",
    "    - intensity (float): ノイズの強度。\n",
    "    戻り値:\n",
    "    - signal_noisy (ndarray): ノイズが追加された信号。\n",
    "    \"\"\"\n",
    "\n",
    "    signal_noisy = signals + np.random.normal(0, intensity, len(signals[0]))\n",
    "    return signal_noisy\n"
   ]
  },
  {
   "cell_type": "code",
   "execution_count": 4,
   "metadata": {},
   "outputs": [],
   "source": [
    "def heterodyne(signals, reference, t):\n",
    "    \"\"\"\n",
    "    ヘテロダイン検出を実行します。\n",
    "    パラメータ:\n",
    "    - signal (ndarray): 信号。\n",
    "    - ref_signal (ndarray): 参照信号。\n",
    "    戻り値:\n",
    "    - signal_heterodyne (ndarray): ヘテロダイン信号。\n",
    "    \"\"\"\n",
    "\n",
    "    het_cos = signals[0] * np.cos(2 * np.pi * reference * t)\n",
    "    het_sin = signals[1] * np.sin(2 * np.pi * reference * t)\n",
    "    return het_cos, het_sin \n"
   ]
  },
  {
   "cell_type": "code",
   "execution_count": 7,
   "metadata": {},
   "outputs": [],
   "source": [
    "def make_NMR_chart(range_max, N, peaktops, reference):\n",
    "    \"\"\"\n",
    "    NMRチャートを生成します。\n",
    "    パラメータ:\n",
    "    - range_max (float): 最大周波数範囲。\n",
    "    - N (int): データポイントの数。\n",
    "    - peaktops (ndarray): ピークの周波数。\n",
    "    - reference (float): 参照周波数。\n",
    "    戻り値:\n",
    "    - freq (ndarray): 周波数。\n",
    "    - signal_positive (ndarray): NMR信号。\n",
    "    \"\"\"\n",
    "    measure_time = N / range_max / 2\n",
    "    t = np.linspace(0, measure_time, N, endpoint=False)\n",
    "    signal = make_NMR_signal(peaktops, t)\n",
    "    signal = add_gaussian_noise(signal)\n",
    "\n",
    "    # ヘテロダイン混合の実行\n",
    "    heterodyne_signal = heterodyne(signal, reference, t)\n",
    "\n",
    "    # 高速フーリエ変換の実行\n",
    "    FFTsignal =  np.real(np.fft.fft(heterodyne_signal[0]))[:N//2]+np.real(np.fft.fft(heterodyne_signal[1]))[:N//2]\n",
    "    freq = np.fft.fftfreq(N, 1 / range_max / 2)[: N // 2]\n",
    "\n",
    "    FFTsignal -= np.min(FFTsignal)\n",
    "    FFTsignal /= np.max(FFTsignal)\n",
    "    return freq, FFTsignal\n"
   ]
  },
  {
   "cell_type": "code",
   "execution_count": null,
   "metadata": {},
   "outputs": [
    {
     "data": {
      "application/vnd.jupyter.widget-view+json": {
       "model_id": "5b7e456be6274f30b03539dc615dc271",
       "version_major": 2,
       "version_minor": 0
      },
      "text/plain": [
       "interactive(children=(FloatLogSlider(value=2048.0, base=2.0, description='N', max=20.0, min=5.0, step=1.0), Fl…"
      ]
     },
     "metadata": {},
     "output_type": "display_data"
    }
   ],
   "source": [
    "def plot_NMR_chart(N, peakshift, J1, J2):\n",
    "    \"\"\"\n",
    "    NMRチャートをプロットします。\n",
    "    パラメータ:\n",
    "    - N (float): データポイントの数。\n",
    "    - peakshift (float): ピークのシフト (Hz)。\n",
    "    - J1 (float): 第一結合定数。\n",
    "    - J2 (float): 第二結合定数。\n",
    "    戻り値:\n",
    "    - None\n",
    "    \"\"\"\n",
    "    N = int(N)\n",
    "    resonancefreq = 4* 10**6 # Hz\n",
    "\n",
    "    # ピークトップの位置を取得\n",
    "    peaktops = (\n",
    "        np.array([(-J1 - J2) / 2, (-J1 + J2) / 2, (J1 - J2) / 2, (J1 + J2) / 2])\n",
    "        + peakshift * resonancefreq/10**6\n",
    "        + resonancefreq\n",
    "    )\n",
    "\n",
    "    # NMRチャートを描画\n",
    "    \n",
    "    x, y = make_NMR_chart(10*resonancefreq/10**6, N, peaktops, resonancefreq)\n",
    "    \n",
    "    # 化学シフト（ppm）に変換するために、周波数を参照周波数で割ります\n",
    "    plt.plot(x/resonancefreq*10**6, y)\n",
    "    plt.gca().invert_xaxis()#x軸を反転\n",
    "    plt.show()\n",
    "\n",
    "interact(\n",
    "    plot_NMR_chart,\n",
    "    N=FloatLogSlider(value=2**11, min=5, max=20, base=2, step=1),\n",
    "    peakshift=FloatSlider(value=5, min=0, max=10, step=0.1),\n",
    "    J1=FloatSlider(value=1.2, min=0, max=10, step=0.1),\n",
    "    J2=FloatSlider(value=1.2, min=0, max=10, step=0.1),\n",
    ")\n",
    "pass"
   ]
  },
  {
   "cell_type": "code",
   "execution_count": null,
   "metadata": {},
   "outputs": [],
   "source": []
  }
 ],
 "metadata": {
  "kernelspec": {
   "display_name": "base",
   "language": "python",
   "name": "python3"
  },
  "language_info": {
   "codemirror_mode": {
    "name": "ipython",
    "version": 3
   },
   "file_extension": ".py",
   "mimetype": "text/x-python",
   "name": "python",
   "nbconvert_exporter": "python",
   "pygments_lexer": "ipython3",
   "version": "3.11.7"
  }
 },
 "nbformat": 4,
 "nbformat_minor": 2
}
