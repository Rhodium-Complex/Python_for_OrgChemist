{
 "cells": [
  {
   "cell_type": "code",
   "execution_count": 24,
   "metadata": {},
   "outputs": [],
   "source": [
    "# 原子の原子量（g/mol）\n",
    "ATOMIC_WEIGHTS = {\n",
    "    \"H\": 1.008,\n",
    "    \"C\": 12.011,\n",
    "    \"N\": 14.007,\n",
    "    \"O\": 15.999,\n",
    "    \"F\": 18.998,\n",
    "    \"Si\": 28.085,\n",
    "    \"P\": 30.974,\n",
    "    \"S\": 32.06,\n",
    "    \"Cl\": 35.45,\n",
    "    # 必要に応じて追加\n",
    "}\n",
    "\n",
    "# 官能基の構成元素とその数\n",
    "SUBSTITUTE_GROUPS = {\n",
    "  \"Boc\": \"C4H9OCO\",\n",
    "  \"Me\": \"CH3\",\n",
    "  \"Bn\": \"CH2Ph\",\n",
    "  \"Ph\": \"C6H5\" \n",
    "  # 必要に応じて追加\n",
    "}"
   ]
  },
  {
   "cell_type": "code",
   "execution_count": 25,
   "metadata": {},
   "outputs": [],
   "source": [
    "import re\n",
    "\n",
    "def tokenize(formula):\n",
    "    \"\"\"\n",
    "    分子式をトークンに分解します。\n",
    "    トークンには元素記号、保護基、数値、括弧が含まれます。\n",
    "    ex. \"ClSi(CH3)3\" -> [\"Cl\", \"Si\", \"(\", \"C\", \"H\", \"3\", \")\", \"3\"]\n",
    "    \"\"\"\n",
    "    tokens = re.findall(r\"[A-Z][a-z]*|\\d+|\\(|\\)\", formula)\n",
    "    return tokens"
   ]
  },
  {
   "cell_type": "code",
   "execution_count": 26,
   "metadata": {},
   "outputs": [],
   "source": [
    "import re\n",
    "\n",
    "def split_string_with_lowercase(input_string):\n",
    "    # 正規表現でパターンを定義\n",
    "    pattern = r'([A-Z][a-z]*)|([a-z]+)|([\\(\\)])|(\\d+)'\n",
    "    \n",
    "    # マッチした部分をリストに格納\n",
    "    matches = re.findall(pattern, input_string)\n",
    "    \n",
    "    # マッチ結果をフラットなリストに変換\n",
    "    result = [item for group in matches \n",
    "                            for item in group if item]\n",
    "    \n",
    "    return result"
   ]
  },
  {
   "cell_type": "code",
   "execution_count": 27,
   "metadata": {},
   "outputs": [],
   "source": [
    "def parse(tokens):\n",
    "    \"\"\"\n",
    "    トークンリストをパースして、ネストされたデータ構造に変換します。\n",
    "    保護基は展開されます。\n",
    "    ex. [\"Cl\", \"Si\", \"(\", \"C\", \"H\", \"3\", \")\", \"3\"]\n",
    "        -> [(\"Cl\", 1), (\"Si\", 1), ([(\"C\", 1), (\"H\", 3)]\n",
    "    \"\"\"\n",
    "\n",
    "    def parse_group(index):\n",
    "        group = []\n",
    "        while index < len(tokens):\n",
    "            token = tokens[index]\n",
    "            tmp = None\n",
    "            if token == \")\":\n",
    "                # グループの終わりに達したら現在のグループを返す\n",
    "                return group, index + 1\n",
    "            if token == \"(\":\n",
    "                # 新しいグループに到達したらグループをパースする\n",
    "                tmp, index = parse_group(index + 1)\n",
    "            elif token in SUBSTITUTE_GROUPS:\n",
    "                # 保護基を展開\n",
    "                PGtokens = tokenize(SUBSTITUTE_GROUPS[token])\n",
    "                tmp = parse(PGtokens)\n",
    "                index += 1\n",
    "            elif token in ATOMIC_WEIGHTS:\n",
    "                # 元素記号を追加\n",
    "                tmp = token\n",
    "                index += 1\n",
    "            else:\n",
    "                raise ValueError(f\"Unexpected token: {token}\")\n",
    "            # 括弧/保護基/元素の後にくる数値を取得\n",
    "            if index < len(tokens) and tokens[index].isdigit():\n",
    "                count = int(tokens[index])\n",
    "                index += 1\n",
    "            else:\n",
    "                count = 1\n",
    "            group.append((tmp, count))\n",
    "        return group, index\n",
    "\n",
    "    parsed_structure, _ = parse_group(0)\n",
    "    return parsed_structure"
   ]
  },
  {
   "cell_type": "code",
   "execution_count": 28,
   "metadata": {},
   "outputs": [],
   "source": [
    "def calculate_molecular_weight(parsed_structure):\n",
    "    \"\"\"\n",
    "    パースされた構造から分子量を計算します。\n",
    "    ex. [(\"Cl\", 1), (\"Si\", 1), ([(\"C\", 1), (\"H\", 3)], 3)] -> 108.55\n",
    "    \"\"\"\n",
    "\n",
    "    def recursive_calc(structure):\n",
    "        total = 0\n",
    "        for item in structure:\n",
    "            if not isinstance(item, tuple):\n",
    "                raise ValueError(f\"正しい中間表現ではありません: {item}\")\n",
    "            key, value = item\n",
    "            if isinstance(key, list):\n",
    "                total += recursive_calc(key) * value\n",
    "            elif isinstance(key, str):\n",
    "                if key not in ATOMIC_WEIGHTS:\n",
    "                    raise ValueError(f\"定義されていない元素です: {key}\")\n",
    "                total += ATOMIC_WEIGHTS[key] * value\n",
    "            else:\n",
    "                raise ValueError(f\"キーのタイプが不正です: {type(key)}\")\n",
    "        return total\n",
    "\n",
    "    return recursive_calc(parsed_structure)"
   ]
  },
  {
   "cell_type": "code",
   "execution_count": 29,
   "metadata": {},
   "outputs": [
    {
     "name": "stdout",
     "output_type": "stream",
     "text": [
      "The molecular weight of CH4 is 16.04 g/mol.\n"
     ]
    }
   ],
   "source": [
    "formula = input(\"Enter a chemical formula: \")\n",
    "tokens = tokenize(formula)\n",
    "parsed_structure = parse(tokens)\n",
    "weight = calculate_molecular_weight(parsed_structure)\n",
    "print(f\"The molecular weight of {formula} is {weight:.2f} g/mol.\")"
   ]
  },
  {
   "cell_type": "code",
   "execution_count": null,
   "metadata": {},
   "outputs": [],
   "source": []
  }
 ],
 "metadata": {
  "kernelspec": {
   "display_name": "base",
   "language": "python",
   "name": "python3"
  },
  "language_info": {
   "codemirror_mode": {
    "name": "ipython",
    "version": 3
   },
   "file_extension": ".py",
   "mimetype": "text/x-python",
   "name": "python",
   "nbconvert_exporter": "python",
   "pygments_lexer": "ipython3",
   "version": "3.11.7"
  }
 },
 "nbformat": 4,
 "nbformat_minor": 2
}
