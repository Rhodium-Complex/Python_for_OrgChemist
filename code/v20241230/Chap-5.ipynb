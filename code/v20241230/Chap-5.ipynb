{
 "cells": [
  {
   "cell_type": "code",
   "execution_count": null,
   "metadata": {
    "vscode": {
     "languageId": "plaintext"
    }
   },
   "outputs": [],
   "source": [
    "from rdkit import Chem\n",
    "from rdkit.Chem import AllChem\n",
    "\n",
    "# SMILESから分子オブジェクトを生成\n",
    "mol = Chem.MolFromSmiles(\"c1ccccc1O\")  # フェノール\n",
    "\n",
    "# 3D座標を生成\n",
    "AllChem.EmbedMolecule(mol, AllChem.ETKDG())\n",
    "\n",
    "# 構造最適化\n",
    "AllChem.MMFFOptimizeMolecule(mol)"
   ]
  },
  {
   "cell_type": "code",
   "execution_count": null,
   "metadata": {
    "vscode": {
     "languageId": "plaintext"
    }
   },
   "outputs": [],
   "source": [
    "from pyscf import gto, dft\n",
    "# 分子オブジェクトの作成\n",
    "mol = gto.M(\n",
    "    atom = 'H 0 0 0; H 0 0 0.74',  # H2分子\n",
    "    basis = '6-31G*',# 使用する基底関数\n",
    "    unit = 'Angstrom'# 座標の単位\n",
    ")\n",
    "\n",
    "# DFT計算の実行\n",
    "mf = dft.RKS(mol)\n",
    "mf.xc = 'B3LYP'\n",
    "mf.kernel()\n",
    "\n",
    "# 分子軌道エネルギーの取得\n",
    "mo_energy = mf.mo_energy\n",
    "print(mo_energy)"
   ]
  },
  {
   "cell_type": "code",
   "execution_count": null,
   "metadata": {
    "vscode": {
     "languageId": "plaintext"
    }
   },
   "outputs": [],
   "source": [
    "import random\n",
    "\n",
    "from deap import base, creator, tools\n",
    "\n",
    "# 適応度の定義（最大化）\n",
    "creator.create(\"FitnessMax\", base.Fitness, weights=(1.0,))\n",
    "creator.create(\"Individual\", list, fitness=creator.FitnessMax)\n",
    "\n",
    "# 個体の生成\n",
    "toolbox = base.Toolbox()\n",
    "toolbox.register(\"attr_float\", random.random)\n",
    "toolbox.register(\n",
    "    \"individual\", tools.initRepeat, creator.Individual, toolbox.attr_float, n=5\n",
    ")\n",
    "toolbox.register(\"population\", tools.initRepeat, list, toolbox.individual)\n",
    "\n",
    "\n",
    "# 評価関数\n",
    "def evalOneMax(individual):\n",
    "    return (sum(individual),)\n",
    "\n",
    "\n",
    "toolbox.register(\"evaluate\", evalOneMax)\n",
    "toolbox.register(\"mate\", tools.cxTwoPoint)\n",
    "toolbox.register(\"mutate\", tools.mutGaussian, mu=0, sigma=1, indpb=0.2)\n",
    "toolbox.register(\"select\", tools.selTournament, tournsize=3)\n",
    "\n",
    "# 初期集団の生成\n",
    "population = toolbox.population(n=10)\n",
    "\n",
    "# 進化の実行\n",
    "from deap import algorithms\n",
    "\n",
    "algorithms.eaSimple(\n",
    "    population, toolbox, cxpb=0.5, mutpb=0.2, ngen=10, verbose=True\n",
    ")"
   ]
  },
  {
   "cell_type": "code",
   "execution_count": null,
   "metadata": {
    "vscode": {
     "languageId": "plaintext"
    }
   },
   "outputs": [],
   "source": [
    "import logging\n",
    "import random\n",
    "import sys\n",
    "import numpy as np\n",
    "from deap import algorithms, base, creator, tools\n",
    "from gpu4pyscf import dft\n",
    "from pyscf import gto\n",
    "from rdkit import Chem, RDLogger\n",
    "from rdkit.Chem import AllChem\n",
    "\n",
    "# ログの抑制\n",
    "RDLogger.DisableLog(\"rdApp.*\")\n",
    "logging.getLogger(\"pyscf\").setLevel(logging.CRITICAL)"
   ]
  },
  {
   "cell_type": "code",
   "execution_count": null,
   "metadata": {
    "vscode": {
     "languageId": "plaintext"
    }
   },
   "outputs": [],
   "source": [
    "substituents = {\n",
    "    \"OH\": \"O\",        # ヒドロキシ基\n",
    "    \"CN\": \"C#N\",      # シアノ基\n",
    "    \"NH2\": \"N\",       # アミノ基\n",
    "    \"NO2\": \"N(=O)=O\", # ニトロ基\n",
    "    \"OMe\": \"OC\",      # メトキシ基\n",
    "    \"Me\": \"C\",        # メチル基\n",
    "    \"Cl\": \"Cl\",       # 塩素\n",
    "    \"F\": \"F\",         # フッ素\n",
    "    \"H\": \"H\",         # 水素\n",
    "}\n",
    "substituent_names = list(substituents.keys())\n",
    "substituent_smiles = list(substituents.values())\n",
    "num_substituents = len(substituent_names)"
   ]
  },
  {
   "cell_type": "code",
   "execution_count": null,
   "metadata": {
    "vscode": {
     "languageId": "plaintext"
    }
   },
   "outputs": [],
   "source": [
    "def gen_substituted_benzene_smiles(sublist):\n",
    "    \"\"\"\n",
    "    指定された置換基をベンゼンのパラ位に導入し、置換後のSMILESを返す。\n",
    "\n",
    "    Parameters:\n",
    "    - sublist (list of int): 6個の置換基のインデックスリスト\n",
    "\n",
    "    Returns:\n",
    "    - str: 置換基導入後のSMILES\n",
    "    \"\"\"\n",
    "    try:\n",
    "        benzene_smiles = \"c1(\" + substituent_smiles[sublist[0]] + \")\"\n",
    "        benzene_smiles += \"c(\" + substituent_smiles[sublist[1]] + \")\"\n",
    "        benzene_smiles += \"c(\" + substituent_smiles[sublist[2]] + \")\"\n",
    "        benzene_smiles += \"c(\" + substituent_smiles[sublist[3]] + \")\"\n",
    "        benzene_smiles += \"c(\" + substituent_smiles[sublist[4]] + \")\"\n",
    "        benzene_smiles += \"c1\" + substituent_smiles[sublist[5]]\n",
    "        return benzene_smiles\n",
    "    except Exception as e:\n",
    "        print(sublist)\n",
    "        print(f\"SMILES生成中にエラーが発生しました: {e}\", file=sys.stderr)\n",
    "        return None"
   ]
  },
  {
   "cell_type": "code",
   "execution_count": null,
   "metadata": {
    "vscode": {
     "languageId": "plaintext"
    }
   },
   "outputs": [],
   "source": [
    "def optimize_structure_rdkit(mol):\n",
    "    \"\"\"\n",
    "    RDKitを用いて分子の3D構造を最適化します。\n",
    "\n",
    "    Parameters:\n",
    "    - mol (rdkit.Chem.rdchem.Mol): 最適化対象の分子オブジェクト\n",
    "\n",
    "    Returns:\n",
    "    - rdkit.Chem.rdchem.Mol: 最適化後の分子オブジェクト\n",
    "    \"\"\"\n",
    "    try:\n",
    "        # 3D座標の埋め込み\n",
    "        params = AllChem.ETKDGv3()\n",
    "        params.randomSeed = 0xF00D\n",
    "        AllChem.EmbedMolecule(mol, params)\n",
    "\n",
    "        # MMFF94力場による最適化\n",
    "        AllChem.MMFFOptimizeMolecule(mol, maxIters=1000)\n",
    "        return mol\n",
    "    except Exception as e:\n",
    "        print(\n",
    "            f\"RDKitによる構造最適化中にエラーが発生しました: {e}\", \n",
    "            file=sys.stderr\n",
    "        )\n",
    "        return None"
   ]
  },
  {
   "cell_type": "code",
   "execution_count": null,
   "metadata": {
    "vscode": {
     "languageId": "plaintext"
    }
   },
   "outputs": [],
   "source": [
    "def calculate_homo_lumo_gap(mol):\n",
    "    \"\"\"\n",
    "    PySCFを用いて分子のHOMO-LUMOギャップを計算します。\n",
    "    Parameters:\n",
    "    - mol (rdkit.Chem.rdchem.Mol): 最適化済みの分子オブジェクト\n",
    "    Returns:\n",
    "    - float: HOMO-LUMOギャップ（eV）\n",
    "    \"\"\"\n",
    "    try:\n",
    "        # 3D座標を取得\n",
    "        conf = mol.GetConformer()\n",
    "        positions = conf.GetPositions()\n",
    "        atomic_numbers = [atom.GetAtomicNum() for atom in mol.GetAtoms()]\n",
    "        atoms = [\n",
    "            (atomic_numbers[i], positions[i]) for i in range(len(atomic_numbers))\n",
    "        ]\n",
    "\n",
    "        # PySCFの分子オブジェクトを作成\n",
    "        mol_pyscf = gto.M(atom=atoms, unit=\"Angstrom\", basis=\"631G*\", verbose=0)\n",
    "\n",
    "        # DFT計算（M06汎関数）\n",
    "        mf = dft.RKS(mol_pyscf)\n",
    "        mf.xc = \"M06\"\n",
    "        mf.kernel()\n",
    "\n",
    "        # HOMO-LUMOギャップの計算\n",
    "        mo_energy = mf.mo_energy\n",
    "        num_electrons = mol_pyscf.nelectron\n",
    "        homo_index = num_electrons // 2 - 1\n",
    "        lumo_index = homo_index + 1\n",
    "        if mo_energy is None:\n",
    "            # 分子軌道エネルギーが取得できなかった場合、\n",
    "            # ペナルティとして非常に大きなギャップを設定\n",
    "            gap = 1e6\n",
    "        else:\n",
    "            homo_energy = mo_energy[homo_index]\n",
    "            lumo_energy = mo_energy[lumo_index]\n",
    "            gap = lumo_energy - homo_energy\n",
    "        return gap\n",
    "    except Exception as e:\n",
    "        print(f\"PySCFによる計算中にエラーが発生しました: {e}\", file=sys.stderr)\n",
    "        return None"
   ]
  },
  {
   "cell_type": "code",
   "execution_count": null,
   "metadata": {
    "vscode": {
     "languageId": "plaintext"
    }
   },
   "outputs": [],
   "source": [
    "def evaluate(individual):\n",
    "    \"\"\"\n",
    "    遺伝的アルゴリズムにおける評価関数。\n",
    "\n",
    "    Parameters:\n",
    "    - individual (list of int): 6個の置換基のインデックスリスト\n",
    "\n",
    "    Returns:\n",
    "    - tuple: HOMO-LUMOギャップの値（最小化対象）\n",
    "    \"\"\"\n",
    "\n",
    "    # ペナルティ条件\n",
    "    # ベンゼン環の対称性を考慮し、置換基の順序を標準化するための条件\n",
    "    if individual[0] != min(individual):\n",
    "        return (1e6,)\n",
    "    if individual[1] > individual[5]:\n",
    "        return (1e6,)\n",
    "\n",
    "    try:\n",
    "        # individualは6個の置換基インデックスのリスト\n",
    "        substituted_smiles = gen_substituted_benzene_smiles(individual)\n",
    "        if substituted_smiles is None:\n",
    "            return (1e6,)\n",
    "\n",
    "        # RDKitで分子オブジェクトを作成\n",
    "        mol = Chem.MolFromSmiles(substituted_smiles)\n",
    "        if mol is None:\n",
    "            return (1e6,)\n",
    "        mol = Chem.AddHs(mol)\n",
    "\n",
    "        # 構造最適化\n",
    "        mol = optimize_structure_rdkit(mol)\n",
    "        if mol is None:\n",
    "            return (1e6,)\n",
    "\n",
    "        # HOMO-LUMOギャップの計算\n",
    "        gap = calculate_homo_lumo_gap(mol)\n",
    "        if gap is None:\n",
    "            return (1e6,)\n",
    "\n",
    "        # フィットネスとしてギャップを返す（最小化）\n",
    "        print(\n",
    "            f\"HOMO-LUMOギャップ: {gap} eV, \",\n",
    "            f\"置換基: {[substituent_names[i] for i in individual]}\"\n",
    "        )\n",
    "        return (gap,)\n",
    "    except Exception as e:\n",
    "        print(f\"フィットネス評価中にエラーが発生しました: {e}\", file=sys.stderr)\n",
    "        return (1e6,)"
   ]
  },
  {
   "cell_type": "code",
   "execution_count": null,
   "metadata": {
    "vscode": {
     "languageId": "plaintext"
    }
   },
   "outputs": [],
   "source": [
    "def main():\n",
    "    # DEAPの設定\n",
    "    creator.create(\"FitnessMin\", base.Fitness, weights=(-1.0,))  # 最小化\n",
    "    creator.create(\"Individual\", list, fitness=creator.FitnessMin)\n",
    "\n",
    "    toolbox = base.Toolbox()\n",
    "\n",
    "    # 個体は6個の置換基名（整数）のリスト\n",
    "    toolbox.register(\"attr_sub\", random.randint, 0, num_substituents - 1)\n",
    "    toolbox.register(\n",
    "        \"individual\", tools.initRepeat, creator.Individual, toolbox.attr_sub, n=6\n",
    "    )\n",
    "    toolbox.register(\"population\", tools.initRepeat, list, toolbox.individual)\n",
    "\n",
    "    # 評価関数の登録\n",
    "    toolbox.register(\"evaluate\", evaluate)\n",
    "    # 交叉操作の登録（個体内の置換基を交換）\n",
    "    toolbox.register(\"mate\", tools.cxTwoPoint)\n",
    "    # 突然変異操作の登録（ランダムに置換基を変更）\n",
    "    toolbox.register(\n",
    "        \"mutate\", tools.mutUniformInt, low=0, up=num_substituents - 1, indpb=0.2\n",
    "    )\n",
    "    # 選択方法の登録（トーナメント選択）\n",
    "    toolbox.register(\"select\", tools.selTournament, tournsize=3)\n",
    "\n",
    "    # パラメータの設定\n",
    "    population_size = 20\n",
    "    num_generations = 7\n",
    "    crossover_prob = 0.7\n",
    "    mutation_prob = 0.3\n",
    "\n",
    "    # 初期集団の生成\n",
    "    population = toolbox.population(n=population_size)\n",
    "\n",
    "    # 遺伝的アルゴリズムの実行\n",
    "    print(\"遺伝的アルゴリズムを開始します...\")\n",
    "    result = algorithms.eaSimple(\n",
    "        population,\n",
    "        toolbox,\n",
    "        cxpb=crossover_prob,\n",
    "        mutpb=mutation_prob,\n",
    "        ngen=num_generations,\n",
    "        stats=None,\n",
    "        halloffame=None,\n",
    "        verbose=True,\n",
    "    )\n",
    "\n",
    "    # 最適個体の取得\n",
    "    print(\"最適な置換基 Top3\")\n",
    "    for ind, top_ind in enumerate(tools.selBest(population, k=3)):\n",
    "        print(f'{ind}: {\", \".join([substituent_names[i] for i in top_ind])}')\n",
    "\n",
    "    # 最適分子の生成とギャップの計算\n",
    "    best_smiles = gen_substituted_benzene_smiles(top_ind)\n",
    "    if best_smiles is not None:\n",
    "        mol = Chem.MolFromSmiles(best_smiles)\n",
    "        mol = Chem.AddHs(mol)\n",
    "        mol = optimize_structure_rdkit(mol)\n",
    "        if mol is not None:\n",
    "            gap = calculate_homo_lumo_gap(mol)\n",
    "            if gap is not None:\n",
    "                print(f\"最大HOMO-LUMOギャップ: {gap:.4f} eV\")\n",
    "            else:\n",
    "                print(\"HOMO-LUMOギャップの計算に失敗しました。\", file=sys.stderr)\n",
    "        else:\n",
    "            print(\"構造最適化に失敗しました。\", file=sys.stderr)\n",
    "    else:\n",
    "        print(\"分子生成に失敗しました。\", file=sys.stderr)\n",
    "\n",
    "\n",
    "if __name__ == \"__main__\":\n",
    "    main()"
   ]
  }
 ],
 "metadata": {
  "language_info": {
   "name": "python"
  }
 },
 "nbformat": 4,
 "nbformat_minor": 2
}
