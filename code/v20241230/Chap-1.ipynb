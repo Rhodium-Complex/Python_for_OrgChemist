{
 "cells": [
  {
   "cell_type": "code",
   "execution_count": 2,
   "metadata": {},
   "outputs": [],
   "source": [
    "a = 10        # 整数型\n",
    "b = 3.14      # 浮動小数点数型\n",
    "c = \"化学\"    # 文字列型\n",
    "d = True      # ブール型"
   ]
  },
  {
   "cell_type": "code",
   "execution_count": 3,
   "metadata": {},
   "outputs": [
    {
     "name": "stdout",
     "output_type": "stream",
     "text": [
      "<class 'int'>\n",
      "<class 'float'>\n",
      "<class 'str'>\n",
      "<class 'bool'>\n"
     ]
    }
   ],
   "source": [
    "print(type(a))  # <class 'int'>\n",
    "print(type(b))  # <class 'float'>\n",
    "print(type(c))  # <class 'str'>\n",
    "print(type(d))  # <class 'bool'>"
   ]
  },
  {
   "cell_type": "code",
   "execution_count": 4,
   "metadata": {},
   "outputs": [
    {
     "ename": "SyntaxError",
     "evalue": "invalid character '🐎' (U+1F40E) (673264995.py, line 12)",
     "output_type": "error",
     "traceback": [
      "\u001b[1;36m  Cell \u001b[1;32mIn[4], line 12\u001b[1;36m\u001b[0m\n\u001b[1;33m    🐎 = \"晴れ\"\u001b[0m\n\u001b[1;37m    ^\u001b[0m\n\u001b[1;31mSyntaxError\u001b[0m\u001b[1;31m:\u001b[0m invalid character '🐎' (U+1F40E)\n"
     ]
    }
   ],
   "source": [
    "valid_name = 10\n",
    "another_valid_name = 3.14\n",
    "\n",
    "# 定数の例\n",
    "AVOGADRO_CONSTANT = 6.02214076 * 10**23\n",
    "\n",
    "# 以下はNG例\n",
    "# 先頭にアンダースコアは許可されますが、推奨されません\n",
    "_invalidName = \"Error\"  \n",
    "\n",
    "# 絵文字なども使えますが、推奨されません\n",
    "🐎 = \"晴れ\""
   ]
  },
  {
   "cell_type": "code",
   "execution_count": 6,
   "metadata": {},
   "outputs": [
    {
     "name": "stdout",
     "output_type": "stream",
     "text": [
      "13\n",
      "7\n",
      "30\n",
      "3.3333333333333335\n",
      "1000\n",
      "3\n",
      "1\n"
     ]
    }
   ],
   "source": [
    "a = 10\n",
    "b = 3\n",
    "\n",
    "# 加算\n",
    "print(a + b)  # 出力: 13\n",
    "\n",
    "# 減算\n",
    "print(a - b)  # 出力: 7\n",
    "\n",
    "# 乗算\n",
    "print(a * b)  # 出力: 30\n",
    "\n",
    "# 除算\n",
    "print(a / b)  # 出力: 3.3333333333333335\n",
    "\n",
    "# 累乗\n",
    "print(a ** b)  # 出力: 1000 (10の3乗)\n",
    "\n",
    "#整数除算\n",
    "print(a // b)  # 出力: 3\n",
    "\n",
    "#剰余\n",
    "print(a % b)  # 出力: 1"
   ]
  },
  {
   "cell_type": "code",
   "execution_count": 7,
   "metadata": {},
   "outputs": [
    {
     "name": "stdout",
     "output_type": "stream",
     "text": [
      "14\n",
      "20\n"
     ]
    }
   ],
   "source": [
    "result = 2 + 3 * 4  # 2 + (3 * 4) = 14\n",
    "print(result)  # 出力: 14\n",
    "\n",
    "result = (2 + 3) * 4  # (2 + 3) * 4 = 20\n",
    "print(result)  # 出力: 20"
   ]
  },
  {
   "cell_type": "code",
   "execution_count": 8,
   "metadata": {},
   "outputs": [
    {
     "name": "stdout",
     "output_type": "stream",
     "text": [
      "4.0\n",
      "1.0\n",
      "1.0\n"
     ]
    }
   ],
   "source": [
    "import math\n",
    "\n",
    "# 平方根の計算\n",
    "print(math.sqrt(16))  # 出力: 4.0\n",
    "\n",
    "# 自然対数\n",
    "print(math.log(math.e))  # 出力: 1.0\n",
    "\n",
    "# 三角関数\n",
    "print(math.sin(math.pi / 2))  # 出力: 1.0"
   ]
  },
  {
   "cell_type": "code",
   "execution_count": 9,
   "metadata": {},
   "outputs": [
    {
     "name": "stdout",
     "output_type": "stream",
     "text": [
      "['H', 'C', 'O', 'N']\n",
      "H\n",
      "O\n",
      "['H', 'C', 'O', 'N', 'S']\n",
      "['H', 'O', 'N', 'S']\n",
      "['O', 'N']\n"
     ]
    }
   ],
   "source": [
    "# リストの作成\n",
    "elements = ['H', 'C', 'O', 'N']\n",
    "print(elements)  # ['H', 'C', 'O', 'N']\n",
    "\n",
    "# リストの操作例\n",
    "# 要素のアクセス\n",
    "print(elements[0])  # 'H'\n",
    "print(elements[2])  # 'O'\n",
    "\n",
    "# 要素の追加\n",
    "elements.append('S')\n",
    "print(elements)  # ['H', 'C', 'O', 'N', 'S']\n",
    "\n",
    "# 要素の削除\n",
    "elements.remove('C')\n",
    "print(elements)  # ['H', 'O', 'N', 'S']\n",
    "\n",
    "# スライス（部分リストの取得）\n",
    "print(elements[1:3])  # ['O', 'N']"
   ]
  },
  {
   "cell_type": "code",
   "execution_count": 10,
   "metadata": {},
   "outputs": [
    {
     "name": "stdout",
     "output_type": "stream",
     "text": [
      "{'H': 1.008, 'C': 12.011, 'N': 14.007, 'O': 15.999}\n"
     ]
    }
   ],
   "source": [
    "atomic_weights = {\n",
    "    'H': 1.008,\n",
    "    'C': 12.011,\n",
    "    'N': 14.007,\n",
    "    'O': 15.999\n",
    "}\n",
    "print(atomic_weights)  \n",
    "# {'H': 1.008, 'C': 12.011, 'N': 14.007, 'O': 15.999}"
   ]
  },
  {
   "cell_type": "code",
   "execution_count": 11,
   "metadata": {},
   "outputs": [
    {
     "name": "stdout",
     "output_type": "stream",
     "text": [
      "12.011\n",
      "{'H': 1.008, 'C': 12.011, 'N': 14.007, 'O': 15.999, 'S': 32.06}\n",
      "{'H': 1.008, 'C': 12.011, 'N': 14.007, 'S': 32.06}\n",
      "dict_keys(['H', 'C', 'N', 'S'])\n",
      "dict_values([1.008, 12.011, 14.007, 32.06])\n"
     ]
    }
   ],
   "source": [
    "# 値のアクセス：キーを使って値にアクセスします。\n",
    "print(atomic_weights['C'])  # 12.011\n",
    "\n",
    "# 新しいキーと値の追加\n",
    "atomic_weights['S'] = 32.06\n",
    "print(atomic_weights)  \n",
    "# {'H': 1.008, 'C': 12.011, 'N': 14.007, 'O': 15.999, 'S': 32.06}\n",
    "\n",
    "# キーと値の削除\n",
    "del atomic_weights['O']\n",
    "print(atomic_weights) # {'H': 1.008, 'C': 12.011, 'N': 14.007, 'S': 32.06}\n",
    "\n",
    "# キーの一覧取得\n",
    "print(atomic_weights.keys())  # dict_keys(['H', 'C', 'N', 'S'])\n",
    "\n",
    "# 値の一覧取得\n",
    "print(atomic_weights.values()) # dict_values([1.008, 12.011, 14.007, 32.06])"
   ]
  },
  {
   "cell_type": "code",
   "execution_count": 12,
   "metadata": {},
   "outputs": [
    {
     "name": "stdout",
     "output_type": "stream",
     "text": [
      "(10.0, 20.0, 30.0)\n"
     ]
    },
    {
     "ename": "TypeError",
     "evalue": "'tuple' object does not support item assignment",
     "output_type": "error",
     "traceback": [
      "\u001b[1;31m---------------------------------------------------------------------------\u001b[0m",
      "\u001b[1;31mTypeError\u001b[0m                                 Traceback (most recent call last)",
      "Cell \u001b[1;32mIn[12], line 6\u001b[0m\n\u001b[0;32m      3\u001b[0m \u001b[38;5;28mprint\u001b[39m(coordinates)  \u001b[38;5;66;03m# (10.0, 20.0, 30.0)\u001b[39;00m\n\u001b[0;32m      5\u001b[0m \u001b[38;5;66;03m# タプルの要素は変更できない\u001b[39;00m\n\u001b[1;32m----> 6\u001b[0m coordinates[\u001b[38;5;241m1\u001b[39m] \u001b[38;5;241m=\u001b[39m \u001b[38;5;241m25.0\u001b[39m\n",
      "\u001b[1;31mTypeError\u001b[0m: 'tuple' object does not support item assignment"
     ]
    }
   ],
   "source": [
    "# タプルの作成\n",
    "coordinates = (10.0, 20.0, 30.0)\n",
    "print(coordinates)  # (10.0, 20.0, 30.0)\n",
    "\n",
    "# タプルの要素は変更できない\n",
    "coordinates[1] = 25.0 # Error!"
   ]
  },
  {
   "cell_type": "code",
   "execution_count": 13,
   "metadata": {},
   "outputs": [
    {
     "name": "stdout",
     "output_type": "stream",
     "text": [
      "{'O', 'H', 'N', 'C'}\n",
      "{'O', 'S', 'H', 'C', 'N'}\n",
      "{'O', 'S', 'H', 'N'}\n",
      "{1, 2, 3, 4, 5}\n",
      "{3}\n",
      "{1, 2}\n"
     ]
    }
   ],
   "source": [
    "# セットの作成\n",
    "unique_elements = {'H', 'C', 'O', 'N', 'C'}\n",
    "# 重複は削除される。順番は維持されない\n",
    "print(unique_elements)  # {'C', 'N', 'O', 'H'} \n",
    "\n",
    "##################\n",
    "# セットの操作例  #\n",
    "##################\n",
    "\n",
    "# 要素の追加\n",
    "unique_elements.add('S')\n",
    "print(unique_elements)  # {'H', 'C', 'O', 'N', 'S'}\n",
    "\n",
    "# 要素の削除\n",
    "unique_elements.remove('C')\n",
    "print(unique_elements)  # {'H', 'O', 'N', 'S'}\n",
    "\n",
    "# 和集合、積集合、差集合：\n",
    "set1 = {1, 2, 3}\n",
    "set2 = {3, 4, 5}\n",
    "\n",
    "print(set1 | set2)  # 和集合: {1, 2, 3, 4, 5}\n",
    "print(set1 & set2)  # 積集合: {3}\n",
    "print(set1 - set2)  # 差集合: {1, 2}"
   ]
  },
  {
   "cell_type": "code",
   "execution_count": 14,
   "metadata": {},
   "outputs": [
    {
     "name": "stdout",
     "output_type": "stream",
     "text": [
      "暖かいです。\n"
     ]
    }
   ],
   "source": [
    "# 条件分岐の例\n",
    "temperature = 25  # 温度 (℃)\n",
    "\n",
    "if temperature > 30:\n",
    "    print(\"暑いです。\")\n",
    "elif temperature > 20:\n",
    "    print(\"暖かいです。\")\n",
    "else:\n",
    "    print(\"寒いです。\")"
   ]
  },
  {
   "cell_type": "code",
   "execution_count": 15,
   "metadata": {},
   "outputs": [
    {
     "name": "stdout",
     "output_type": "stream",
     "text": [
      "蒸し暑いです。\n"
     ]
    }
   ],
   "source": [
    "# 論理演算子の例\n",
    "humidity = 70  # 湿度 (%)\n",
    "\n",
    "if temperature > 20 and humidity > 60:\n",
    "    print(\"蒸し暑いです。\")"
   ]
  },
  {
   "cell_type": "code",
   "execution_count": 16,
   "metadata": {},
   "outputs": [
    {
     "name": "stdout",
     "output_type": "stream",
     "text": [
      "元素記号: H\n",
      "元素記号: C\n",
      "元素記号: O\n",
      "元素記号: N\n"
     ]
    }
   ],
   "source": [
    "elements = ['H', 'C', 'O', 'N']\n",
    "\n",
    "for element in elements:\n",
    "    print(f\"元素記号: {element}\")"
   ]
  },
  {
   "cell_type": "code",
   "execution_count": 17,
   "metadata": {},
   "outputs": [
    {
     "name": "stdout",
     "output_type": "stream",
     "text": [
      "カウント: 0\n",
      "カウント: 1\n",
      "カウント: 2\n",
      "カウント: 3\n"
     ]
    }
   ],
   "source": [
    "count = 0\n",
    "\n",
    "while count < 4:\n",
    "    print(f\"カウント: {count}\")\n",
    "    count += 1"
   ]
  },
  {
   "cell_type": "code",
   "execution_count": 19,
   "metadata": {},
   "outputs": [
    {
     "name": "stdout",
     "output_type": "stream",
     "text": [
      "元素記号: H\n",
      "元素記号: C\n",
      "酸素を見つけました。ループを終了します。\n"
     ]
    }
   ],
   "source": [
    "elements = ['H', 'C', 'O', 'N']\n",
    "for element in elements:\n",
    "    if element == 'O':\n",
    "        print(\"酸素を見つけました。ループを終了します。\")\n",
    "        break\n",
    "    print(f\"元素記号: {element}\")"
   ]
  },
  {
   "cell_type": "code",
   "execution_count": 20,
   "metadata": {},
   "outputs": [],
   "source": [
    "def greet(name):\n",
    "    \"\"\"\n",
    "    名前を受け取り、挨拶のメッセージを返す関数\n",
    "    \"\"\"\n",
    "    return f\"こんにちは、{name}さん！\""
   ]
  },
  {
   "cell_type": "code",
   "execution_count": 21,
   "metadata": {},
   "outputs": [
    {
     "name": "stdout",
     "output_type": "stream",
     "text": [
      "こんにちは、太郎さん！\n"
     ]
    }
   ],
   "source": [
    "message = greet(\"太郎\")\n",
    "print(message)  # 出力: こんにちは、太郎さん"
   ]
  },
  {
   "cell_type": "code",
   "execution_count": 22,
   "metadata": {},
   "outputs": [
    {
     "name": "stdout",
     "output_type": "stream",
     "text": [
      "8\n"
     ]
    }
   ],
   "source": [
    "def add(a, b):\n",
    "    return a + b\n",
    "\n",
    "result = add(5, 3)\n",
    "print(result)  # 出力: 8"
   ]
  },
  {
   "cell_type": "code",
   "execution_count": 23,
   "metadata": {},
   "outputs": [
    {
     "name": "stdout",
     "output_type": "stream",
     "text": [
      "None\n"
     ]
    }
   ],
   "source": [
    "def noreturn(a, b):\n",
    "    pass\n",
    "\n",
    "print(noreturn(5, 3)) # 出力: None"
   ]
  },
  {
   "cell_type": "code",
   "execution_count": 24,
   "metadata": {},
   "outputs": [
    {
     "name": "stdout",
     "output_type": "stream",
     "text": [
      "関数内の変数: 10\n"
     ]
    },
    {
     "ename": "NameError",
     "evalue": "name 'local_var' is not defined",
     "output_type": "error",
     "traceback": [
      "\u001b[1;31m---------------------------------------------------------------------------\u001b[0m",
      "\u001b[1;31mNameError\u001b[0m                                 Traceback (most recent call last)",
      "Cell \u001b[1;32mIn[24], line 6\u001b[0m\n\u001b[0;32m      3\u001b[0m     \u001b[38;5;28mprint\u001b[39m(\u001b[38;5;124mf\u001b[39m\u001b[38;5;124m\"\u001b[39m\u001b[38;5;124m関数内の変数: \u001b[39m\u001b[38;5;132;01m{\u001b[39;00mlocal_var\u001b[38;5;132;01m}\u001b[39;00m\u001b[38;5;124m\"\u001b[39m)\n\u001b[0;32m      5\u001b[0m example_function()\n\u001b[1;32m----> 6\u001b[0m \u001b[38;5;28mprint\u001b[39m(local_var)\n",
      "\u001b[1;31mNameError\u001b[0m: name 'local_var' is not defined"
     ]
    }
   ],
   "source": [
    "def example_function():\n",
    "    local_var = 10\n",
    "    print(f\"関数内の変数: {local_var}\")\n",
    "\n",
    "example_function()\n",
    "print(local_var)  \n",
    "# エラー: NameError: name 'local_var' is not defined"
   ]
  },
  {
   "cell_type": "code",
   "execution_count": 26,
   "metadata": {},
   "outputs": [
    {
     "name": "stdout",
     "output_type": "stream",
     "text": [
      "20\n"
     ]
    }
   ],
   "source": [
    "global_var = 20\n",
    "\n",
    "def modify_global():\n",
    "    global_var = 30\n",
    "\n",
    "modify_global() #global_var_add10()\n",
    "print(global_var)  # 出力: 20"
   ]
  },
  {
   "cell_type": "code",
   "execution_count": 28,
   "metadata": {},
   "outputs": [
    {
     "name": "stdout",
     "output_type": "stream",
     "text": [
      "30\n"
     ]
    }
   ],
   "source": [
    "global_var = 20\n",
    "\n",
    "def modify_global():\n",
    "    global global_var\n",
    "    global_var = 30\n",
    "\n",
    "modify_global() \n",
    "print(global_var)  # 出力: 30"
   ]
  },
  {
   "cell_type": "code",
   "execution_count": 29,
   "metadata": {},
   "outputs": [
    {
     "name": "stdout",
     "output_type": "stream",
     "text": [
      "こんにちは、花子さん！\n",
      "こんばんは、太郎さん！\n"
     ]
    }
   ],
   "source": [
    "def greet(name, message=\"こんにちは\"):\n",
    "    return f\"{message}、{name}さん！\"\n",
    "\n",
    "print(greet(\"花子\")) \n",
    "# 出力: こんにちは、花子さん！\n",
    "print(greet(\"太郎\", message=\"こんばんは\"))  \n",
    "# 出力: こんばんは、太郎さん！"
   ]
  },
  {
   "cell_type": "code",
   "execution_count": 30,
   "metadata": {},
   "outputs": [
    {
     "name": "stdout",
     "output_type": "stream",
     "text": [
      "面積: 50 平方単位\n"
     ]
    }
   ],
   "source": [
    "def calculate_area(length, width):\n",
    "    return length * width\n",
    "\n",
    "# 引数の順序を指定せずに渡す\n",
    "area = calculate_area(width=5, length=10)\n",
    "print(f\"面積: {area} 平方単位\")  # 出力: 面積: 50 平方単位"
   ]
  },
  {
   "cell_type": "code",
   "execution_count": 31,
   "metadata": {},
   "outputs": [],
   "source": [
    "def calculate_molar_mass(compound, atomic_weights):\n",
    "    \"\"\"\n",
    "    化合物のモル質量を計算する関数\n",
    "    \n",
    "    Parameters:\n",
    "    - compound (dict): 化合物の構成元素とその数\n",
    "    - atomic_weights (dict): 各元素の原子量\n",
    "    \n",
    "    Returns:\n",
    "    - float: 化合物のモル質量\n",
    "    \"\"\"\n",
    "    molar_mass = 0\n",
    "    for element, count in compound.items():\n",
    "        molar_mass += atomic_weights[element] * count\n",
    "    return molar_mass"
   ]
  },
  {
   "cell_type": "code",
   "execution_count": 32,
   "metadata": {},
   "outputs": [
    {
     "name": "stdout",
     "output_type": "stream",
     "text": [
      "Help on function calculate_molar_mass in module __main__:\n",
      "\n",
      "calculate_molar_mass(compound, atomic_weights)\n",
      "    化合物のモル質量を計算する関数\n",
      "    \n",
      "    Parameters:\n",
      "    - compound (dict): 化合物の構成元素とその数\n",
      "    - atomic_weights (dict): 各元素の原子量\n",
      "    \n",
      "    Returns:\n",
      "    - float: 化合物のモル質量\n",
      "\n"
     ]
    }
   ],
   "source": [
    "help(calculate_molar_mass)"
   ]
  },
  {
   "cell_type": "code",
   "execution_count": 33,
   "metadata": {},
   "outputs": [
    {
     "name": "stdout",
     "output_type": "stream",
     "text": [
      "水の化学式はH₂Oです。\n"
     ]
    }
   ],
   "source": [
    "first_part = \"水の化学式は\"\n",
    "second_part = \"H₂Oです。\"\n",
    "full_sentence = first_part + second_part\n",
    "print(full_sentence)  # 出力: 水の化学式はH₂Oです。"
   ]
  },
  {
   "cell_type": "code",
   "execution_count": 34,
   "metadata": {},
   "outputs": [
    {
     "name": "stdout",
     "output_type": "stream",
     "text": [
      "反応！反応！反応！\n"
     ]
    }
   ],
   "source": [
    "repeat_str = \"反応！\" * 3\n",
    "print(repeat_str)  # 出力: 反応！反応！反応！"
   ]
  },
  {
   "cell_type": "code",
   "execution_count": 35,
   "metadata": {},
   "outputs": [
    {
     "name": "stdout",
     "output_type": "stream",
     "text": [
      "C\n",
      "6\n",
      "6\n"
     ]
    }
   ],
   "source": [
    "formula = \"C6H12O6\"\n",
    "print(formula[0])  # 出力: 'C'\n",
    "print(formula[1])  # 出力: '6'\n",
    "print(formula[-1]) # 出力: '6'（末尾の文字）"
   ]
  },
  {
   "cell_type": "code",
   "execution_count": 36,
   "metadata": {},
   "outputs": [
    {
     "name": "stdout",
     "output_type": "stream",
     "text": [
      "6H1\n"
     ]
    }
   ],
   "source": [
    "formula = \"C6H12O6\"\n",
    "substring = formula[1:4]\n",
    "print(substring)  # 出力: 6H1"
   ]
  },
  {
   "cell_type": "code",
   "execution_count": 37,
   "metadata": {},
   "outputs": [
    {
     "name": "stdout",
     "output_type": "stream",
     "text": [
      "化学式 C6H12O6 の長さは 7 文字です。\n"
     ]
    }
   ],
   "source": [
    "formula = \"C6H12O6\"\n",
    "length = len(formula)\n",
    "print(f\"化学式 {formula} の長さは {length} 文字です。\")  \n",
    "# 出力: 化学式 C6H12O6 の長さは 7 文字です。"
   ]
  },
  {
   "cell_type": "code",
   "execution_count": 38,
   "metadata": {},
   "outputs": [
    {
     "name": "stdout",
     "output_type": "stream",
     "text": [
      "化学反応の解析\n",
      "化学反応の解析\n",
      "CHEMICAL REACTION ANALYSIS\n",
      "Chemical reaction analysis\n",
      "Chemical Reaction Analysis\n"
     ]
    }
   ],
   "source": [
    "# 日本語は変化なし\n",
    "text = \"化学反応の解析\"\n",
    "print(text.upper()) # 出力: 化学反応の解析\n",
    "print(text.lower()) # 出力: 化学反応の解析\n",
    "\n",
    "# 英語では変化する。\n",
    "text = \"chemical reaction analysis\"\n",
    "print(text.upper())  \n",
    "# 出力: CHEMICAL REACTION ANALYSIS\n",
    "print(text.capitalize())  \n",
    "# 出力: Chemical reaction analysis\n",
    "print(text.title())       \n",
    "# 出力: Chemical Reaction Analysis"
   ]
  },
  {
   "cell_type": "code",
   "execution_count": 39,
   "metadata": {},
   "outputs": [
    {
     "name": "stdout",
     "output_type": "stream",
     "text": [
      "C12H12O12\n"
     ]
    }
   ],
   "source": [
    "formula = \"C6H12O6\"\n",
    "new_formula = formula.replace(\"6\", \"12\")\n",
    "print(new_formula)  # 出力: C12H12O12"
   ]
  },
  {
   "cell_type": "code",
   "execution_count": 40,
   "metadata": {},
   "outputs": [
    {
     "name": "stdout",
     "output_type": "stream",
     "text": [
      "2\n",
      "True\n",
      "True\n"
     ]
    }
   ],
   "source": [
    "formula = \"C6H12O6\"\n",
    "index = formula.find(\"H\")\n",
    "print(index)  # 出力: 2 (3文字目にHが出てくる)\n",
    "\n",
    "# startswith と endswith の使用例\n",
    "print(formula.startswith(\"C\"))  # 出力: True\n",
    "print(formula.endswith(\"O6\"))   # 出力: True"
   ]
  },
  {
   "cell_type": "code",
   "execution_count": 41,
   "metadata": {},
   "outputs": [
    {
     "name": "stdout",
     "output_type": "stream",
     "text": [
      "['H2O', 'C6H12O6', 'CO2']\n",
      "H2O;C6H12O6;CO2\n"
     ]
    }
   ],
   "source": [
    "data = \"H2O,C6H12O6,CO2\"\n",
    "compounds = data.split(\",\")\n",
    "print(compounds)  # 出力: ['H2O', 'C6H12O6', 'CO2']\n",
    "\n",
    "# 文字列の結合\n",
    "joined_data = \";\".join(compounds)\n",
    "print(joined_data)  # 出力: H2O;C6H12O6;CO2"
   ]
  },
  {
   "cell_type": "code",
   "execution_count": 42,
   "metadata": {},
   "outputs": [
    {
     "name": "stdout",
     "output_type": "stream",
     "text": [
      "H2Oのモル質量は18.015 g/molです。\n"
     ]
    }
   ],
   "source": [
    "compound = \"H2O\"\n",
    "molar_mass = 18.015\n",
    "print(f\"{compound}のモル質量は{molar_mass} g/molです。\")  \n",
    "# 出力: H2Oのモル質量は18.015 g/molです。"
   ]
  },
  {
   "cell_type": "code",
   "execution_count": 43,
   "metadata": {},
   "outputs": [
    {
     "name": "stdout",
     "output_type": "stream",
     "text": [
      "CO2のモル質量は44.01 g/molです。\n"
     ]
    }
   ],
   "source": [
    "compound = \"CO2\"\n",
    "molar_mass = 44.01\n",
    "print(\"{}のモル質量は{} g/molです。\".format(compound, molar_mass))  \n",
    "# 出力: CO2のモル質量は44.01 g/molです。"
   ]
  },
  {
   "cell_type": "code",
   "execution_count": 44,
   "metadata": {},
   "outputs": [
    {
     "name": "stdout",
     "output_type": "stream",
     "text": [
      "CO2のモル質量は44.01 g/molです。\n",
      "NH3のモル質量は17.03 g/molです。\n"
     ]
    }
   ],
   "source": [
    "# インデックスを指定\n",
    "print(\"{0}のモル質量は{1} g/molです。\".format(compound, molar_mass))  \n",
    "# 出力: CO2のモル質量は44.01 g/molです。\n",
    "\n",
    "\n",
    "# キーワード引数を指定\n",
    "print(\"{compound}のモル質量は{mass} g/molです。\".format(\n",
    "    compound=\"NH3\", mass=17.03))  \n",
    "# 出力: NH3のモル質量は17.03 g/molです。"
   ]
  },
  {
   "cell_type": "code",
   "execution_count": 46,
   "metadata": {},
   "outputs": [
    {
     "name": "stdout",
     "output_type": "stream",
     "text": [
      "化学式: H2O\n",
      "次の行に移動します。\n",
      "4,4'-(Propane-2,2-diyl)diphenol\n"
     ]
    }
   ],
   "source": [
    "text = \"化学式: H2O\\n次の行に移動します。\"\n",
    "print(text)\n",
    "\n",
    "BPA = '4,4\\'-(Propane-2,2-diyl)diphenol'\n",
    "print(BPA)"
   ]
  },
  {
   "cell_type": "code",
   "execution_count": 47,
   "metadata": {},
   "outputs": [
    {
     "ename": "SyntaxError",
     "evalue": "incomplete input (3691034111.py, line 1)",
     "output_type": "error",
     "traceback": [
      "\u001b[1;36m  Cell \u001b[1;32mIn[47], line 1\u001b[1;36m\u001b[0m\n\u001b[1;33m    print(\"Hello, World!\"\u001b[0m\n\u001b[1;37m                         ^\u001b[0m\n\u001b[1;31mSyntaxError\u001b[0m\u001b[1;31m:\u001b[0m incomplete input\n"
     ]
    }
   ],
   "source": [
    "print(\"Hello, World!\""
   ]
  },
  {
   "cell_type": "code",
   "execution_count": 50,
   "metadata": {},
   "outputs": [
    {
     "ename": "NameError",
     "evalue": "name 'variable' is not defined",
     "output_type": "error",
     "traceback": [
      "\u001b[1;31m---------------------------------------------------------------------------\u001b[0m",
      "\u001b[1;31mNameError\u001b[0m                                 Traceback (most recent call last)",
      "Cell \u001b[1;32mIn[50], line 1\u001b[0m\n\u001b[1;32m----> 1\u001b[0m \u001b[38;5;28mprint\u001b[39m(variable)\n",
      "\u001b[1;31mNameError\u001b[0m: name 'variable' is not defined"
     ]
    }
   ],
   "source": [
    "print(variable)"
   ]
  },
  {
   "cell_type": "code",
   "execution_count": 51,
   "metadata": {},
   "outputs": [
    {
     "ename": "TypeError",
     "evalue": "unsupported operand type(s) for +: 'int' and 'str'",
     "output_type": "error",
     "traceback": [
      "\u001b[1;31m---------------------------------------------------------------------------\u001b[0m",
      "\u001b[1;31mTypeError\u001b[0m                                 Traceback (most recent call last)",
      "Cell \u001b[1;32mIn[51], line 3\u001b[0m\n\u001b[0;32m      1\u001b[0m a \u001b[38;5;241m=\u001b[39m \u001b[38;5;241m5\u001b[39m\n\u001b[0;32m      2\u001b[0m b \u001b[38;5;241m=\u001b[39m \u001b[38;5;124m\"\u001b[39m\u001b[38;5;124m10\u001b[39m\u001b[38;5;124m\"\u001b[39m\n\u001b[1;32m----> 3\u001b[0m \u001b[38;5;28mprint\u001b[39m(a \u001b[38;5;241m+\u001b[39m b)\n",
      "\u001b[1;31mTypeError\u001b[0m: unsupported operand type(s) for +: 'int' and 'str'"
     ]
    }
   ],
   "source": [
    "a = 5\n",
    "b = \"10\"\n",
    "print(a + b)"
   ]
  },
  {
   "cell_type": "code",
   "execution_count": 52,
   "metadata": {},
   "outputs": [
    {
     "name": "stdout",
     "output_type": "stream",
     "text": [
      "a = 10, b = 5\n",
      "15\n"
     ]
    }
   ],
   "source": [
    "a = 10\n",
    "b = 5\n",
    "print(f\"a = {a}, b = {b}\")\n",
    "print(a + b)"
   ]
  },
  {
   "cell_type": "code",
   "execution_count": null,
   "metadata": {},
   "outputs": [],
   "source": [
    "n"
   ]
  }
 ],
 "metadata": {
  "kernelspec": {
   "display_name": "base",
   "language": "python",
   "name": "python3"
  },
  "language_info": {
   "codemirror_mode": {
    "name": "ipython",
    "version": 3
   },
   "file_extension": ".py",
   "mimetype": "text/x-python",
   "name": "python",
   "nbconvert_exporter": "python",
   "pygments_lexer": "ipython3",
   "version": "3.11.7"
  }
 },
 "nbformat": 4,
 "nbformat_minor": 2
}
